{
 "cells": [
  {
   "cell_type": "markdown",
   "id": "5f190cd7",
   "metadata": {},
   "source": [
    "# 🧠 Weighted Loss Fine-Tuning: Adversarial DistilBERT\n",
    "\n",
    "Improves performance by penalizing false positives to balance precision and recall."
   ]
  },
  {
   "cell_type": "code",
   "execution_count": null,
   "id": "fb89248b",
   "metadata": {},
   "outputs": [],
   "source": [
    "from transformers import DistilBertForSequenceClassification, Trainer, TrainingArguments, DataCollatorWithPadding, DistilBertTokenizerFast\n",
    "import wandb\n",
    "import torch\n",
    "import numpy as np\n",
    "from torch.nn import CrossEntropyLoss\n",
    "\n",
    "wandb.login()\n",
    "wandb.init(project=\"adversarial-phishing-defense-weighted\")\n",
    "\n",
    "model = DistilBertForSequenceClassification.from_pretrained(\"distilbert-base-uncased\", num_labels=2)\n",
    "tokenizer = DistilBertTokenizerFast.from_pretrained(\"distilbert-base-uncased\")\n",
    "data_collator = DataCollatorWithPadding(tokenizer=tokenizer)\n",
    "\n",
    "# Define class weights: higher weight to legitimate class (label 0) to reduce false positives\n",
    "class_weights = torch.tensor([1.5, 1.0]).to(torch.device(\"cuda\" if torch.cuda.is_available() else \"cpu\"))\n",
    "\n",
    "# Custom Trainer with class-weighted loss\n",
    "class WeightedTrainer(Trainer):\n",
    "    def compute_loss(self, model, inputs, return_outputs=False):\n",
    "        labels = inputs.get(\"labels\")\n",
    "        outputs = model(**inputs)\n",
    "        logits = outputs.get(\"logits\")\n",
    "        loss_fct = CrossEntropyLoss(weight=class_weights)\n",
    "        loss = loss_fct(logits, labels)\n",
    "        return (loss, outputs) if return_outputs else loss\n"
   ]
  },
  {
   "cell_type": "code",
   "execution_count": null,
   "id": "8f2be821",
   "metadata": {},
   "outputs": [],
   "source": [
    "training_args = TrainingArguments(\n",
    "    output_dir=\"./results_weighted\",\n",
    "    num_train_epochs=4,\n",
    "    per_device_train_batch_size=8,\n",
    "    per_device_eval_batch_size=16,\n",
    "    evaluation_strategy=\"epoch\",\n",
    "    save_strategy=\"epoch\",\n",
    "    logging_steps=200,\n",
    "    load_best_model_at_end=True,\n",
    "    fp16=True,\n",
    "    disable_tqdm=True,\n",
    "    report_to=\"wandb\"\n",
    ")\n",
    "\n",
    "trainer = WeightedTrainer(\n",
    "    model=model,\n",
    "    args=training_args,\n",
    "    train_dataset=train_dataset,\n",
    "    eval_dataset=val_dataset,\n",
    "    data_collator=data_collator\n",
    ")\n",
    "\n",
    "trainer.train()\n"
   ]
  },
  {
   "cell_type": "code",
   "execution_count": null,
   "id": "642f3f24",
   "metadata": {},
   "outputs": [],
   "source": [
    "from sklearn.metrics import classification_report\n",
    "\n",
    "preds_output = trainer.predict(test_dataset)\n",
    "y_pred = preds_output.predictions.argmax(-1)\n",
    "y_true = [y for y in test_dataset[\"label\"]]\n",
    "\n",
    "print(\"🔍 Classification Report (Weighted Loss):\")\n",
    "print(classification_report(y_true, y_pred))\n"
   ]
  }
 ],
 "metadata": {},
 "nbformat": 4,
 "nbformat_minor": 5
}
