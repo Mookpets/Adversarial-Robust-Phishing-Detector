{
 "cells": [
  {
   "cell_type": "markdown",
   "id": "5e891e08",
   "metadata": {},
   "source": [
    "# 🛡️ Adversarial Retraining with Augmented Data\n",
    "\n",
    "This notebook fine-tunes the robust DistilBERT phishing classifier using a combined dataset of original and adversarial examples. The goal is to improve resistance to evasion attacks while preserving accuracy."
   ]
  },
  {
   "cell_type": "code",
   "execution_count": null,
   "id": "e4dead05",
   "metadata": {},
   "outputs": [],
   "source": [
    "# ✅ Install necessary libraries\n",
    "!pip install datasets transformers -q\n",
    "!pip install textattack -q\n",
    "!pip install wandb -q"
   ]
  },
  {
   "cell_type": "code",
   "execution_count": null,
   "id": "ab89506d",
   "metadata": {},
   "outputs": [],
   "source": [
    "# 📦 Imports and setup\n",
    "import pandas as pd\n",
    "from datasets import Dataset\n",
    "from transformers import DistilBertTokenizerFast\n",
    "\n",
    "# Load original + adversarial examples\n",
    "original_df = pd.read_csv('original_dataset.csv')\n",
    "adv_df = pd.read_csv('adversarial_attack_outputs.csv')  # generated examples from TextAttack\n",
    "\n",
    "# Combine datasets\n",
    "combined_df = pd.concat([original_df, adv_df], ignore_index=True)\n",
    "combined_df['Email Text'] = combined_df['Email Text'].astype(str)\n",
    "combined_df['label'] = combined_df['label'].astype(int)\n",
    "\n",
    "hf_dataset = Dataset.from_pandas(combined_df[['Email Text', 'label']])\n",
    "tokenizer = DistilBertTokenizerFast.from_pretrained('distilbert-base-uncased')"
   ]
  },
  {
   "cell_type": "code",
   "execution_count": null,
   "id": "1fc46006",
   "metadata": {},
   "outputs": [],
   "source": [
    "# 🧪 Tokenize and split\n",
    "def tokenize_batch(batch):\n",
    "    return tokenizer(batch['Email Text'], padding=True, truncation=True)\n",
    "\n",
    "tokenized_dataset = hf_dataset.map(tokenize_batch, batched=True)\n",
    "tokenized_dataset = tokenized_dataset.remove_columns(['Email Text'])\n",
    "tokenized_dataset.set_format('torch')\n",
    "\n",
    "split = tokenized_dataset.train_test_split(test_size=0.3, seed=42)\n",
    "val_test_split = split['test'].train_test_split(test_size=0.5, seed=42)\n",
    "\n",
    "train_dataset = split['train']\n",
    "val_dataset = val_test_split['train']\n",
    "test_dataset = val_test_split['test']"
   ]
  },
  {
   "cell_type": "code",
   "execution_count": null,
   "id": "50a14202",
   "metadata": {},
   "outputs": [],
   "source": [
    "# ⚖️ Weighted loss Trainer\n",
    "from transformers import DistilBertForSequenceClassification, TrainingArguments, DataCollatorWithPadding, Trainer\n",
    "import torch\n",
    "from torch.nn import CrossEntropyLoss\n",
    "\n",
    "model = DistilBertForSequenceClassification.from_pretrained('distilbert-base-uncased', num_labels=2)\n",
    "data_collator = DataCollatorWithPadding(tokenizer=tokenizer)\n",
    "class_weights = torch.tensor([1.5, 1.0]).to(torch.device('cuda' if torch.cuda.is_available() else 'cpu'))\n",
    "\n",
    "class WeightedTrainer(Trainer):\n",
    "    def compute_loss(self, model, inputs, return_outputs=False, **kwargs):\n",
    "        labels = inputs.get('labels')\n",
    "        outputs = model(**inputs)\n",
    "        logits = outputs.get('logits')\n",
    "        loss_fct = CrossEntropyLoss(weight=class_weights)\n",
    "        loss = loss_fct(logits, labels)\n",
    "        return (loss, outputs) if return_outputs else loss"
   ]
  },
  {
   "cell_type": "code",
   "execution_count": null,
   "id": "fb19fb77",
   "metadata": {},
   "outputs": [],
   "source": [
    "# 🧠 TrainingArguments + Training\n",
    "training_args = TrainingArguments(\n",
    "    output_dir='./results_adv_retrain',\n",
    "    num_train_epochs=4,\n",
    "    per_device_train_batch_size=8,\n",
    "    per_device_eval_batch_size=16,\n",
    "    evaluation_strategy='epoch',\n",
    "    save_strategy='epoch',\n",
    "    logging_steps=200,\n",
    "    load_best_model_at_end=True,\n",
    "    fp16=True,\n",
    "    disable_tqdm=True,\n",
    "    report_to='wandb'\n",
    ")\n",
    "\n",
    "trainer = WeightedTrainer(\n",
    "    model=model,\n",
    "    args=training_args,\n",
    "    train_dataset=train_dataset,\n",
    "    eval_dataset=val_dataset,\n",
    "    data_collator=data_collator\n",
    ")\n",
    "\n",
    "trainer.train()"
   ]
  },
  {
   "cell_type": "code",
   "execution_count": null,
   "id": "ba9d81ca",
   "metadata": {},
   "outputs": [],
   "source": [
    "# 📊 Final Evaluation\n",
    "from sklearn.metrics import classification_report\n",
    "preds_output = trainer.predict(test_dataset)\n",
    "y_pred = preds_output.predictions.argmax(-1)\n",
    "y_true = [y for y in test_dataset['label']]\n",
    "print(classification_report(y_true, y_pred))"
   ]
  }
 ],
 "metadata": {},
 "nbformat": 4,
 "nbformat_minor": 5
}
